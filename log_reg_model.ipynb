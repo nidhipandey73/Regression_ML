{
 "cells": [
  {
   "cell_type": "code",
   "execution_count": 1,
   "id": "2609136a-d387-4187-b7e4-459745320a5d",
   "metadata": {},
   "outputs": [],
   "source": [
    "import numpy as np\n",
    "\n",
    "class Logistic_Regression(): \n",
    "\n",
    "    \n",
    "    def __init__(self, learning_rate, no_of_iterations):\n",
    "\n",
    "        self.learning_rate = learning_rate\n",
    "        self.no_of_iterations = no_of_iterations\n",
    "\n",
    "    def fit(self, X,Y):\n",
    "\n",
    "        self.m , self.n = X.shape\n",
    "\n",
    "        # initializing weight and bias\n",
    "        self.w = np.zeros(self.n)\n",
    "        self.b = 0\n",
    "        self.X = X\n",
    "        self.Y = Y\n",
    "\n",
    "        for i in range(self.no_of_iterations):\n",
    "            self.update_weights()\n",
    "        \n",
    "\n",
    "    def update_weights(self):\n",
    "        Y_hat = 1 / ( 1 + np.exp(-(self.X.dot(self.w) + self.b )))\n",
    "        # dervatives \n",
    "        dw = (1/self.m)*np.dot(self.X.T, (Y_hat - self.Y))\n",
    "\n",
    "        db = (1/self.m)*np.sum(Y_hat - self.Y)\n",
    "\n",
    "        # updating weight and bias using gradient descent\n",
    "        self.w = self.w - self.learning_rate * dw\n",
    "        self.b = self.b - self.learning_rate * db\n",
    "                                 \n",
    "          \n",
    "    def predict(self, X):\n",
    "        \n",
    "        Y_pred = 1 / ( 1 + np.exp(-(X.dot(self.w) + self.b)) )\n",
    "        Y_pred = np.where(Y_pred > 0.5, 1, 0)\n",
    "        return Y_pred"
   ]
  }
 ],
 "metadata": {
  "kernelspec": {
   "display_name": "Python 3 (ipykernel)",
   "language": "python",
   "name": "python3"
  },
  "language_info": {
   "codemirror_mode": {
    "name": "ipython",
    "version": 3
   },
   "file_extension": ".py",
   "mimetype": "text/x-python",
   "name": "python",
   "nbconvert_exporter": "python",
   "pygments_lexer": "ipython3",
   "version": "3.11.4"
  }
 },
 "nbformat": 4,
 "nbformat_minor": 5
}
